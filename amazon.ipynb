{
 "cells": [
  {
   "cell_type": "code",
   "execution_count": null,
   "id": "47fa525a-95a7-4263-b10b-e4ac0d5e022a",
   "metadata": {},
   "outputs": [],
   "source": [
    "# Import necessary packages\n",
    "import requests\n",
    "import time\n",
    "from bs4 import BeautifulSoup\n",
    "from numpy import random\n",
    "import numpy as np\n",
    "import pandas as pd\n",
    "import re\n",
    "from scipy.stats import norm"
   ]
  },
  {
   "cell_type": "code",
   "execution_count": 23,
   "id": "a1036d06-6a60-44c3-955f-3f67763d40df",
   "metadata": {},
   "outputs": [],
   "source": [
    "# Creating random values that will be used in time.sleep to escape the server's bot detection\n",
    "x_values = range(1,100)\n",
    "\n",
    "x = norm.cdf(x_values, 50, 40)"
   ]
  },
  {
   "cell_type": "code",
   "execution_count": 7,
   "id": "bc19dca3-1033-4112-bd62-056681d5b1e3",
   "metadata": {},
   "outputs": [],
   "source": [
    "# Add the links of products that you want to check the prices of\n",
    "# For example\n",
    "links = [\"https://www.amazon.com.tr/Samsung-970-EVO-PLUS-NVMe/dp/B07MBQPQ62?ref_=Oct_d_obs_d_12466440031_0&pd_rd_w=4vA9E&content-id=amzn1.sym.a67a5146-97a1-4114-9155-daf1a0470a45&pf_rd_p=a67a5146-97a1-4114-9155-daf1a0470a45&pf_rd_r=SVXBFNK45HMJGC61X022&pd_rd_wg=yxAz6&pd_rd_r=de722e02-fbb9-49bf-8aa0-a4f8bcdeb434&pd_rd_i=B07MBQPQ62&th=1\"]"
   ]
  },
  {
   "cell_type": "code",
   "execution_count": null,
   "id": "5bd41e0b-3476-48ac-bc3c-df6dd88a7ac7",
   "metadata": {},
   "outputs": [],
   "source": [
    "# Add your bot token and chat id\n",
    "TOKEN = \"YOUR TELEGRAM BOT TOKEN\"\n",
    "chat_id = \"YOUR CHAT ID\"\n",
    "empty = list = [0]*len(links)"
   ]
  },
  {
   "cell_type": "code",
   "execution_count": null,
   "id": "89223961-793d-4a2e-b029-b19b295bf41c",
   "metadata": {},
   "outputs": [],
   "source": [
    "# Run this code\n",
    "for i in range(0,len(links)):\n",
    "    while True:\n",
    "        time.sleep(random.choice(x)*2)\n",
    "        html_1 = requests.get(links[i])\n",
    "        html_2 = BeautifulSoup(html_1.content, \"lxml\")\n",
    "        if html_2.find(\"span\", attrs = {\"id\":\"productTitle\"}) is not None:\n",
    "            break\n",
    "        else:\n",
    "            continue\n",
    "        html_3 = html_2.find(\"div\", attrs = {\"id\" : \"corePrice_feature_div\"})\n",
    "        html_4 = html_3.find(\"span\", attrs = {\"class\" : \"a-offscreen\"})\n",
    "        text = html_4.get_text()\n",
    "        empty[i] = float(re.sub(r',.*','',text))\n",
    "\n",
    "\n",
    "while True:\n",
    "    for i in range(0,len(links)):\n",
    "        time.sleep(random.choice(x*2))\n",
    "        html_1 = requests.get(links[i])\n",
    "        html_2 = BeautifulSoup(html_1.content, \"lxml\")\n",
    "        if html_2.find(\"span\", attrs = {\"id\":\"productTitle\"}) is not None:\n",
    "            break\n",
    "        else:\n",
    "            continue\n",
    "        html_3 = html_2.find(\"div\", attrs = {\"id\" : \"corePrice_feature_div\"})\n",
    "        html_4 = html_3.find(\"span\", attrs = {\"class\" : \"a-offscreen\"})\n",
    "        text = html_4.get_text()\n",
    "        price = float(re.sub(r',.*','',text))\n",
    "        if(price>empty[i]):\n",
    "            message = \"The price has decreased by \" + str((price-empty[i])/empty[i]) + \" check out: \" + str(links[i])\n",
    "            url = f\"https://api.telegram.org/bot{TOKEN}/sendMessage?chat_id={chat_id}&text={message}\"\n",
    "            requests.get(url).json() \n",
    "            empty[i]=price\n",
    "        else:\n",
    "            continue\n"
   ]
  }
 ],
 "metadata": {
  "kernelspec": {
   "display_name": "Python 3 (ipykernel)",
   "language": "python",
   "name": "python3"
  },
  "language_info": {
   "codemirror_mode": {
    "name": "ipython",
    "version": 3
   },
   "file_extension": ".py",
   "mimetype": "text/x-python",
   "name": "python",
   "nbconvert_exporter": "python",
   "pygments_lexer": "ipython3",
   "version": "3.11.6"
  }
 },
 "nbformat": 4,
 "nbformat_minor": 5
}
